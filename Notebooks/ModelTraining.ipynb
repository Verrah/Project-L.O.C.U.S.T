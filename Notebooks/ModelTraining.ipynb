{
  "nbformat": 4,
  "nbformat_minor": 0,
  "metadata": {
    "colab": {
      "name": "ModelTraining.ipynb",
      "provenance": [],
      "collapsed_sections": []
    },
    "kernelspec": {
      "name": "python3",
      "display_name": "Python 3"
    },
    "accelerator": "GPU"
  },
  "cells": [
    {
      "cell_type": "code",
      "metadata": {
        "id": "e8VySvq5C2Z9"
      },
      "source": [
        "import pandas as pd\n",
        "from sklearn.model_selection import RandomizedSearchCV, GridSearchCV\n",
        "import numpy as np\n",
        "import time\n",
        "from sklearn import metrics\n",
        "import pickle\n",
        "import numpy as np\n",
        "import requests\n",
        "import os\n",
        "import pandas as pd\n",
        "import csv\n",
        "\n",
        "from io import BytesIO\n",
        "from matplotlib.pyplot import imshow\n",
        "from PIL import Image\n",
        "\n",
        "import rasterio\n",
        "import rasterio.features\n",
        "import rasterio.warp\n",
        "from rasterio import MemoryFile\n",
        "from PIL import ImageColor\n",
        "from sklearn.model_selection import train_test_split\n",
        "from sklearn.ensemble import RandomForestClassifier\n",
        "from sklearn import svm"
      ],
      "execution_count": 24,
      "outputs": []
    },
    {
      "cell_type": "code",
      "metadata": {
        "id": "PY6oTw1nb24L",
        "outputId": "43b91111-7381-4225-8e2f-34d0eb5e3a6c",
        "colab": {
          "base_uri": "https://localhost:8080/",
          "height": 306
        }
      },
      "source": [
        "!pip install rasterio\n"
      ],
      "execution_count": 15,
      "outputs": [
        {
          "output_type": "stream",
          "text": [
            "Collecting rasterio\n",
            "\u001b[?25l  Downloading https://files.pythonhosted.org/packages/cc/1c/0f36885ac5864b8ad75f167ca1d403666a5f0c3b2ea8ad3366c98a628e99/rasterio-1.1.7-cp36-cp36m-manylinux1_x86_64.whl (18.1MB)\n",
            "\u001b[K     |████████████████████████████████| 18.1MB 174kB/s \n",
            "\u001b[?25hRequirement already satisfied: numpy in /usr/local/lib/python3.6/dist-packages (from rasterio) (1.18.5)\n",
            "Collecting click-plugins\n",
            "  Downloading https://files.pythonhosted.org/packages/e9/da/824b92d9942f4e472702488857914bdd50f73021efea15b4cad9aca8ecef/click_plugins-1.1.1-py2.py3-none-any.whl\n",
            "Collecting snuggs>=1.4.1\n",
            "  Downloading https://files.pythonhosted.org/packages/cc/0e/d27d6e806d6c0d1a2cfdc5d1f088e42339a0a54a09c3343f7f81ec8947ea/snuggs-1.4.7-py3-none-any.whl\n",
            "Collecting affine\n",
            "  Downloading https://files.pythonhosted.org/packages/ac/a6/1a39a1ede71210e3ddaf623982b06ecfc5c5c03741ae659073159184cd3e/affine-2.3.0-py2.py3-none-any.whl\n",
            "Requirement already satisfied: attrs in /usr/local/lib/python3.6/dist-packages (from rasterio) (20.2.0)\n",
            "Collecting cligj>=0.5\n",
            "  Downloading https://files.pythonhosted.org/packages/e4/be/30a58b4b0733850280d01f8bd132591b4668ed5c7046761098d665ac2174/cligj-0.5.0-py3-none-any.whl\n",
            "Requirement already satisfied: click<8,>=4.0 in /usr/local/lib/python3.6/dist-packages (from rasterio) (7.1.2)\n",
            "Requirement already satisfied: pyparsing>=2.1.6 in /usr/local/lib/python3.6/dist-packages (from snuggs>=1.4.1->rasterio) (2.4.7)\n",
            "Installing collected packages: click-plugins, snuggs, affine, cligj, rasterio\n",
            "Successfully installed affine-2.3.0 click-plugins-1.1.1 cligj-0.5.0 rasterio-1.1.7 snuggs-1.4.7\n"
          ],
          "name": "stdout"
        }
      ]
    },
    {
      "cell_type": "code",
      "metadata": {
        "id": "kyE-zF2sDy8I"
      },
      "source": [
        "df1 = pd.read_csv(\"/content/drive/My Drive/Colab Notebooks/Updated_CSV_2.csv\")\n",
        "df2 = pd.read_csv(\"/content/drive/My Drive/Colab Notebooks/Updated_CSV_Random.csv\")"
      ],
      "execution_count": 3,
      "outputs": []
    },
    {
      "cell_type": "code",
      "metadata": {
        "id": "w358ueglD8Bt",
        "outputId": "bea0a26b-f588-4f5e-fe19-532e39594cd6",
        "colab": {
          "base_uri": "https://localhost:8080/",
          "height": 204
        }
      },
      "source": [
        "df2.head()"
      ],
      "execution_count": 5,
      "outputs": [
        {
          "output_type": "execute_result",
          "data": {
            "text/html": [
              "<div>\n",
              "<style scoped>\n",
              "    .dataframe tbody tr th:only-of-type {\n",
              "        vertical-align: middle;\n",
              "    }\n",
              "\n",
              "    .dataframe tbody tr th {\n",
              "        vertical-align: top;\n",
              "    }\n",
              "\n",
              "    .dataframe thead th {\n",
              "        text-align: right;\n",
              "    }\n",
              "</style>\n",
              "<table border=\"1\" class=\"dataframe\">\n",
              "  <thead>\n",
              "    <tr style=\"text-align: right;\">\n",
              "      <th></th>\n",
              "      <th>Unnamed: 0</th>\n",
              "      <th>Latitude</th>\n",
              "      <th>Longitude</th>\n",
              "      <th>ID</th>\n",
              "      <th>Time</th>\n",
              "      <th>Locust</th>\n",
              "      <th>Soil_Moisture</th>\n",
              "      <th>Wind</th>\n",
              "      <th>Vegetation_Index</th>\n",
              "      <th>Humidity_D</th>\n",
              "      <th>Humidity_N</th>\n",
              "      <th>Elevation</th>\n",
              "      <th>Temperature_D</th>\n",
              "      <th>Temperature_N</th>\n",
              "    </tr>\n",
              "  </thead>\n",
              "  <tbody>\n",
              "    <tr>\n",
              "      <th>0</th>\n",
              "      <td>0</td>\n",
              "      <td>53.228092</td>\n",
              "      <td>-105.125951</td>\n",
              "      <td>22258.0</td>\n",
              "      <td>2016-10-05</td>\n",
              "      <td>0.0</td>\n",
              "      <td>#7dbe00</td>\n",
              "      <td>#f4f4f4</td>\n",
              "      <td>#f4f4f4</td>\n",
              "      <td>#f4f4f4</td>\n",
              "      <td>#f4f4f4</td>\n",
              "      <td>#41bf36</td>\n",
              "      <td>#f4f4f4</td>\n",
              "      <td>#f4f4f4</td>\n",
              "    </tr>\n",
              "    <tr>\n",
              "      <th>1</th>\n",
              "      <td>1</td>\n",
              "      <td>30.680808</td>\n",
              "      <td>-98.742585</td>\n",
              "      <td>22259.0</td>\n",
              "      <td>2016-04-14</td>\n",
              "      <td>0.0</td>\n",
              "      <td>#00ab57</td>\n",
              "      <td>#393d26</td>\n",
              "      <td>#393d26</td>\n",
              "      <td>#393d26</td>\n",
              "      <td>#393d26</td>\n",
              "      <td>#28b93f</td>\n",
              "      <td>#393d26</td>\n",
              "      <td>#393d26</td>\n",
              "    </tr>\n",
              "    <tr>\n",
              "      <th>2</th>\n",
              "      <td>2</td>\n",
              "      <td>46.139354</td>\n",
              "      <td>-90.550267</td>\n",
              "      <td>22260.0</td>\n",
              "      <td>2016-09-06</td>\n",
              "      <td>0.0</td>\n",
              "      <td>#00c489</td>\n",
              "      <td>#9a9f98</td>\n",
              "      <td>#9a9f98</td>\n",
              "      <td>#9a9f98</td>\n",
              "      <td>#9a9f98</td>\n",
              "      <td>#44c035</td>\n",
              "      <td>#9a9f98</td>\n",
              "      <td>#9a9f98</td>\n",
              "    </tr>\n",
              "    <tr>\n",
              "      <th>3</th>\n",
              "      <td>3</td>\n",
              "      <td>37.734402</td>\n",
              "      <td>-72.824027</td>\n",
              "      <td>22261.0</td>\n",
              "      <td>2016-06-25</td>\n",
              "      <td>0.0</td>\n",
              "      <td>#77787c</td>\n",
              "      <td>#77787c</td>\n",
              "      <td>#77787c</td>\n",
              "      <td>#77787c</td>\n",
              "      <td>#77787c</td>\n",
              "      <td>#77787c</td>\n",
              "      <td>#77787c</td>\n",
              "      <td>#77787c</td>\n",
              "    </tr>\n",
              "    <tr>\n",
              "      <th>4</th>\n",
              "      <td>4</td>\n",
              "      <td>25.817881</td>\n",
              "      <td>-110.647170</td>\n",
              "      <td>22262.0</td>\n",
              "      <td>2016-06-25</td>\n",
              "      <td>0.0</td>\n",
              "      <td>#7f7f7d</td>\n",
              "      <td>#7f7f7d</td>\n",
              "      <td>#7f7f7d</td>\n",
              "      <td>#7f7f7d</td>\n",
              "      <td>#7f7f7d</td>\n",
              "      <td>#7f7f7d</td>\n",
              "      <td>#7f7f7d</td>\n",
              "      <td>#7f7f7d</td>\n",
              "    </tr>\n",
              "  </tbody>\n",
              "</table>\n",
              "</div>"
            ],
            "text/plain": [
              "   Unnamed: 0  Latitude   Longitude   ...  Elevation Temperature_D  Temperature_N\n",
              "0           0  53.228092 -105.125951  ...    #41bf36       #f4f4f4        #f4f4f4\n",
              "1           1  30.680808  -98.742585  ...    #28b93f       #393d26        #393d26\n",
              "2           2  46.139354  -90.550267  ...    #44c035       #9a9f98        #9a9f98\n",
              "3           3  37.734402  -72.824027  ...    #77787c       #77787c        #77787c\n",
              "4           4  25.817881 -110.647170  ...    #7f7f7d       #7f7f7d        #7f7f7d\n",
              "\n",
              "[5 rows x 14 columns]"
            ]
          },
          "metadata": {
            "tags": []
          },
          "execution_count": 5
        }
      ]
    },
    {
      "cell_type": "code",
      "metadata": {
        "id": "ttt1h35HD9MS",
        "outputId": "3049b5bf-a829-4956-8759-0c5bf82b06b1",
        "colab": {
          "base_uri": "https://localhost:8080/",
          "height": 204
        }
      },
      "source": [
        "df1.head()"
      ],
      "execution_count": 6,
      "outputs": [
        {
          "output_type": "execute_result",
          "data": {
            "text/html": [
              "<div>\n",
              "<style scoped>\n",
              "    .dataframe tbody tr th:only-of-type {\n",
              "        vertical-align: middle;\n",
              "    }\n",
              "\n",
              "    .dataframe tbody tr th {\n",
              "        vertical-align: top;\n",
              "    }\n",
              "\n",
              "    .dataframe thead th {\n",
              "        text-align: right;\n",
              "    }\n",
              "</style>\n",
              "<table border=\"1\" class=\"dataframe\">\n",
              "  <thead>\n",
              "    <tr style=\"text-align: right;\">\n",
              "      <th></th>\n",
              "      <th>Row</th>\n",
              "      <th>Latitude</th>\n",
              "      <th>Longitude</th>\n",
              "      <th>ID</th>\n",
              "      <th>Time</th>\n",
              "      <th>Locust</th>\n",
              "      <th>Soil_Moisture</th>\n",
              "      <th>Wind</th>\n",
              "      <th>Vegetation_Index</th>\n",
              "      <th>Humidity_D</th>\n",
              "      <th>Humidity_N</th>\n",
              "      <th>Elevation</th>\n",
              "      <th>Temperature_D</th>\n",
              "      <th>Temperature_N</th>\n",
              "    </tr>\n",
              "  </thead>\n",
              "  <tbody>\n",
              "    <tr>\n",
              "      <th>0</th>\n",
              "      <td>0.0</td>\n",
              "      <td>-12.959167</td>\n",
              "      <td>19.792500</td>\n",
              "      <td>22258.0</td>\n",
              "      <td>10/5/2016</td>\n",
              "      <td>1.0</td>\n",
              "      <td>#ffe300</td>\n",
              "      <td>#636967</td>\n",
              "      <td>#636967</td>\n",
              "      <td>#636967</td>\n",
              "      <td>#636967</td>\n",
              "      <td>#cfc40a</td>\n",
              "      <td>#636967</td>\n",
              "      <td>#636967</td>\n",
              "    </tr>\n",
              "    <tr>\n",
              "      <th>1</th>\n",
              "      <td>1.0</td>\n",
              "      <td>49.514444</td>\n",
              "      <td>16.706667</td>\n",
              "      <td>22259.0</td>\n",
              "      <td>4/14/2016</td>\n",
              "      <td>1.0</td>\n",
              "      <td>#00b164</td>\n",
              "      <td>#e7e7e7</td>\n",
              "      <td>#e7e7e7</td>\n",
              "      <td>#e7e7e7</td>\n",
              "      <td>#e7e7e7</td>\n",
              "      <td>#4ac233</td>\n",
              "      <td>#e7e7e7</td>\n",
              "      <td>#e7e7e7</td>\n",
              "    </tr>\n",
              "    <tr>\n",
              "      <th>2</th>\n",
              "      <td>2.0</td>\n",
              "      <td>43.128889</td>\n",
              "      <td>10.635278</td>\n",
              "      <td>22260.0</td>\n",
              "      <td>9/6/2016</td>\n",
              "      <td>1.0</td>\n",
              "      <td>#ffec00</td>\n",
              "      <td>#f5dcdf</td>\n",
              "      <td>#f5dcdf</td>\n",
              "      <td>#f5dcdf</td>\n",
              "      <td>#f5dcdf</td>\n",
              "      <td>#57c52e</td>\n",
              "      <td>#f5dcdf</td>\n",
              "      <td>#f5dcdf</td>\n",
              "    </tr>\n",
              "    <tr>\n",
              "      <th>3</th>\n",
              "      <td>3.0</td>\n",
              "      <td>44.483333</td>\n",
              "      <td>16.316667</td>\n",
              "      <td>22261.0</td>\n",
              "      <td>6/25/2016</td>\n",
              "      <td>1.0</td>\n",
              "      <td>#00bd7c</td>\n",
              "      <td>#cccecb</td>\n",
              "      <td>#cccecb</td>\n",
              "      <td>#cccecb</td>\n",
              "      <td>#cccecb</td>\n",
              "      <td>#cbca0a</td>\n",
              "      <td>#cccecb</td>\n",
              "      <td>#cccecb</td>\n",
              "    </tr>\n",
              "    <tr>\n",
              "      <th>4</th>\n",
              "      <td>4.0</td>\n",
              "      <td>44.250000</td>\n",
              "      <td>15.016667</td>\n",
              "      <td>22262.0</td>\n",
              "      <td>6/25/2016</td>\n",
              "      <td>1.0</td>\n",
              "      <td>#3b9d00</td>\n",
              "      <td>#29333d</td>\n",
              "      <td>#29333d</td>\n",
              "      <td>#29333d</td>\n",
              "      <td>#29333d</td>\n",
              "      <td>#29333d</td>\n",
              "      <td>#29333d</td>\n",
              "      <td>#29333d</td>\n",
              "    </tr>\n",
              "  </tbody>\n",
              "</table>\n",
              "</div>"
            ],
            "text/plain": [
              "   Row  Latitude   Longitude   ...  Elevation Temperature_D  Temperature_N\n",
              "0  0.0 -12.959167   19.792500  ...    #cfc40a       #636967        #636967\n",
              "1  1.0  49.514444   16.706667  ...    #4ac233       #e7e7e7        #e7e7e7\n",
              "2  2.0  43.128889   10.635278  ...    #57c52e       #f5dcdf        #f5dcdf\n",
              "3  3.0  44.483333   16.316667  ...    #cbca0a       #cccecb        #cccecb\n",
              "4  4.0  44.250000   15.016667  ...    #29333d       #29333d        #29333d\n",
              "\n",
              "[5 rows x 14 columns]"
            ]
          },
          "metadata": {
            "tags": []
          },
          "execution_count": 6
        }
      ]
    },
    {
      "cell_type": "code",
      "metadata": {
        "id": "LP3b9beqD-4I",
        "outputId": "13e835ae-b97b-48fa-94c0-06e43d596ff6",
        "colab": {
          "base_uri": "https://localhost:8080/",
          "height": 419
        }
      },
      "source": [
        "df = (df1.loc[:370]).append(df2.loc[:295])\n",
        "df"
      ],
      "execution_count": 7,
      "outputs": [
        {
          "output_type": "execute_result",
          "data": {
            "text/html": [
              "<div>\n",
              "<style scoped>\n",
              "    .dataframe tbody tr th:only-of-type {\n",
              "        vertical-align: middle;\n",
              "    }\n",
              "\n",
              "    .dataframe tbody tr th {\n",
              "        vertical-align: top;\n",
              "    }\n",
              "\n",
              "    .dataframe thead th {\n",
              "        text-align: right;\n",
              "    }\n",
              "</style>\n",
              "<table border=\"1\" class=\"dataframe\">\n",
              "  <thead>\n",
              "    <tr style=\"text-align: right;\">\n",
              "      <th></th>\n",
              "      <th>Row</th>\n",
              "      <th>Latitude</th>\n",
              "      <th>Longitude</th>\n",
              "      <th>ID</th>\n",
              "      <th>Time</th>\n",
              "      <th>Locust</th>\n",
              "      <th>Soil_Moisture</th>\n",
              "      <th>Wind</th>\n",
              "      <th>Vegetation_Index</th>\n",
              "      <th>Humidity_D</th>\n",
              "      <th>Humidity_N</th>\n",
              "      <th>Elevation</th>\n",
              "      <th>Temperature_D</th>\n",
              "      <th>Temperature_N</th>\n",
              "      <th>Unnamed: 0</th>\n",
              "    </tr>\n",
              "  </thead>\n",
              "  <tbody>\n",
              "    <tr>\n",
              "      <th>0</th>\n",
              "      <td>0.0</td>\n",
              "      <td>-12.959167</td>\n",
              "      <td>19.792500</td>\n",
              "      <td>22258.0</td>\n",
              "      <td>10/5/2016</td>\n",
              "      <td>1.0</td>\n",
              "      <td>#ffe300</td>\n",
              "      <td>#636967</td>\n",
              "      <td>#636967</td>\n",
              "      <td>#636967</td>\n",
              "      <td>#636967</td>\n",
              "      <td>#cfc40a</td>\n",
              "      <td>#636967</td>\n",
              "      <td>#636967</td>\n",
              "      <td>NaN</td>\n",
              "    </tr>\n",
              "    <tr>\n",
              "      <th>1</th>\n",
              "      <td>1.0</td>\n",
              "      <td>49.514444</td>\n",
              "      <td>16.706667</td>\n",
              "      <td>22259.0</td>\n",
              "      <td>4/14/2016</td>\n",
              "      <td>1.0</td>\n",
              "      <td>#00b164</td>\n",
              "      <td>#e7e7e7</td>\n",
              "      <td>#e7e7e7</td>\n",
              "      <td>#e7e7e7</td>\n",
              "      <td>#e7e7e7</td>\n",
              "      <td>#4ac233</td>\n",
              "      <td>#e7e7e7</td>\n",
              "      <td>#e7e7e7</td>\n",
              "      <td>NaN</td>\n",
              "    </tr>\n",
              "    <tr>\n",
              "      <th>2</th>\n",
              "      <td>2.0</td>\n",
              "      <td>43.128889</td>\n",
              "      <td>10.635278</td>\n",
              "      <td>22260.0</td>\n",
              "      <td>9/6/2016</td>\n",
              "      <td>1.0</td>\n",
              "      <td>#ffec00</td>\n",
              "      <td>#f5dcdf</td>\n",
              "      <td>#f5dcdf</td>\n",
              "      <td>#f5dcdf</td>\n",
              "      <td>#f5dcdf</td>\n",
              "      <td>#57c52e</td>\n",
              "      <td>#f5dcdf</td>\n",
              "      <td>#f5dcdf</td>\n",
              "      <td>NaN</td>\n",
              "    </tr>\n",
              "    <tr>\n",
              "      <th>3</th>\n",
              "      <td>3.0</td>\n",
              "      <td>44.483333</td>\n",
              "      <td>16.316667</td>\n",
              "      <td>22261.0</td>\n",
              "      <td>6/25/2016</td>\n",
              "      <td>1.0</td>\n",
              "      <td>#00bd7c</td>\n",
              "      <td>#cccecb</td>\n",
              "      <td>#cccecb</td>\n",
              "      <td>#cccecb</td>\n",
              "      <td>#cccecb</td>\n",
              "      <td>#cbca0a</td>\n",
              "      <td>#cccecb</td>\n",
              "      <td>#cccecb</td>\n",
              "      <td>NaN</td>\n",
              "    </tr>\n",
              "    <tr>\n",
              "      <th>4</th>\n",
              "      <td>4.0</td>\n",
              "      <td>44.250000</td>\n",
              "      <td>15.016667</td>\n",
              "      <td>22262.0</td>\n",
              "      <td>6/25/2016</td>\n",
              "      <td>1.0</td>\n",
              "      <td>#3b9d00</td>\n",
              "      <td>#29333d</td>\n",
              "      <td>#29333d</td>\n",
              "      <td>#29333d</td>\n",
              "      <td>#29333d</td>\n",
              "      <td>#29333d</td>\n",
              "      <td>#29333d</td>\n",
              "      <td>#29333d</td>\n",
              "      <td>NaN</td>\n",
              "    </tr>\n",
              "    <tr>\n",
              "      <th>...</th>\n",
              "      <td>...</td>\n",
              "      <td>...</td>\n",
              "      <td>...</td>\n",
              "      <td>...</td>\n",
              "      <td>...</td>\n",
              "      <td>...</td>\n",
              "      <td>...</td>\n",
              "      <td>...</td>\n",
              "      <td>...</td>\n",
              "      <td>...</td>\n",
              "      <td>...</td>\n",
              "      <td>...</td>\n",
              "      <td>...</td>\n",
              "      <td>...</td>\n",
              "      <td>...</td>\n",
              "    </tr>\n",
              "    <tr>\n",
              "      <th>291</th>\n",
              "      <td>NaN</td>\n",
              "      <td>38.007016</td>\n",
              "      <td>-68.952521</td>\n",
              "      <td>22549.0</td>\n",
              "      <td>2019-07-02</td>\n",
              "      <td>0.0</td>\n",
              "      <td>#1b222c</td>\n",
              "      <td>#1b222c</td>\n",
              "      <td>#1b222c</td>\n",
              "      <td>#1b222c</td>\n",
              "      <td>#1b222c</td>\n",
              "      <td>#1b222c</td>\n",
              "      <td>#1b222c</td>\n",
              "      <td>#1b222c</td>\n",
              "      <td>291.0</td>\n",
              "    </tr>\n",
              "    <tr>\n",
              "      <th>292</th>\n",
              "      <td>NaN</td>\n",
              "      <td>46.041518</td>\n",
              "      <td>-112.812577</td>\n",
              "      <td>22550.0</td>\n",
              "      <td>2019-07-02</td>\n",
              "      <td>0.0</td>\n",
              "      <td>#fff800</td>\n",
              "      <td>#eaebed</td>\n",
              "      <td>#eaebed</td>\n",
              "      <td>#eaebed</td>\n",
              "      <td>#eaebed</td>\n",
              "      <td>#d1bf0a</td>\n",
              "      <td>#eaebed</td>\n",
              "      <td>#eaebed</td>\n",
              "      <td>292.0</td>\n",
              "    </tr>\n",
              "    <tr>\n",
              "      <th>293</th>\n",
              "      <td>NaN</td>\n",
              "      <td>37.917815</td>\n",
              "      <td>-80.370140</td>\n",
              "      <td>22551.0</td>\n",
              "      <td>2019-07-02</td>\n",
              "      <td>0.0</td>\n",
              "      <td>#0094ff</td>\n",
              "      <td>#677576</td>\n",
              "      <td>#677576</td>\n",
              "      <td>#677576</td>\n",
              "      <td>#677576</td>\n",
              "      <td>#a8d913</td>\n",
              "      <td>#677576</td>\n",
              "      <td>#677576</td>\n",
              "      <td>293.0</td>\n",
              "    </tr>\n",
              "    <tr>\n",
              "      <th>294</th>\n",
              "      <td>NaN</td>\n",
              "      <td>25.506995</td>\n",
              "      <td>-101.439732</td>\n",
              "      <td>22552.0</td>\n",
              "      <td>2019-07-02</td>\n",
              "      <td>0.0</td>\n",
              "      <td>#ffe300</td>\n",
              "      <td>#f6f6f6</td>\n",
              "      <td>#f6f6f6</td>\n",
              "      <td>#f6f6f6</td>\n",
              "      <td>#f6f6f6</td>\n",
              "      <td>#cacc0b</td>\n",
              "      <td>#f6f6f6</td>\n",
              "      <td>#f6f6f6</td>\n",
              "      <td>294.0</td>\n",
              "    </tr>\n",
              "    <tr>\n",
              "      <th>295</th>\n",
              "      <td>NaN</td>\n",
              "      <td>43.417665</td>\n",
              "      <td>-110.801848</td>\n",
              "      <td>22553.0</td>\n",
              "      <td>2019-07-29</td>\n",
              "      <td>0.0</td>\n",
              "      <td>#acd500</td>\n",
              "      <td>#f4f4f4</td>\n",
              "      <td>#f4f4f4</td>\n",
              "      <td>#f4f4f4</td>\n",
              "      <td>#f4f4f4</td>\n",
              "      <td>#d3b10b</td>\n",
              "      <td>#f4f4f4</td>\n",
              "      <td>#f4f4f4</td>\n",
              "      <td>295.0</td>\n",
              "    </tr>\n",
              "  </tbody>\n",
              "</table>\n",
              "<p>667 rows × 15 columns</p>\n",
              "</div>"
            ],
            "text/plain": [
              "     Row  Latitude   Longitude   ...  Temperature_D Temperature_N  Unnamed: 0\n",
              "0    0.0 -12.959167   19.792500  ...        #636967       #636967         NaN\n",
              "1    1.0  49.514444   16.706667  ...        #e7e7e7       #e7e7e7         NaN\n",
              "2    2.0  43.128889   10.635278  ...        #f5dcdf       #f5dcdf         NaN\n",
              "3    3.0  44.483333   16.316667  ...        #cccecb       #cccecb         NaN\n",
              "4    4.0  44.250000   15.016667  ...        #29333d       #29333d         NaN\n",
              "..   ...        ...         ...  ...            ...           ...         ...\n",
              "291  NaN  38.007016  -68.952521  ...        #1b222c       #1b222c       291.0\n",
              "292  NaN  46.041518 -112.812577  ...        #eaebed       #eaebed       292.0\n",
              "293  NaN  37.917815  -80.370140  ...        #677576       #677576       293.0\n",
              "294  NaN  25.506995 -101.439732  ...        #f6f6f6       #f6f6f6       294.0\n",
              "295  NaN  43.417665 -110.801848  ...        #f4f4f4       #f4f4f4       295.0\n",
              "\n",
              "[667 rows x 15 columns]"
            ]
          },
          "metadata": {
            "tags": []
          },
          "execution_count": 7
        }
      ]
    },
    {
      "cell_type": "code",
      "metadata": {
        "id": "8oiYpyQIH1V-",
        "outputId": "d664e61a-6d95-49eb-add5-a33db8c941d5",
        "colab": {
          "base_uri": "https://localhost:8080/",
          "height": 34
        }
      },
      "source": [
        "df.shape"
      ],
      "execution_count": 9,
      "outputs": [
        {
          "output_type": "execute_result",
          "data": {
            "text/plain": [
              "(667, 15)"
            ]
          },
          "metadata": {
            "tags": []
          },
          "execution_count": 9
        }
      ]
    },
    {
      "cell_type": "code",
      "metadata": {
        "id": "_LuiCEbjEqcj"
      },
      "source": [
        "dataX = df[df.columns[[6,11]]]\n",
        "dataY = df[df.columns[[5]]]"
      ],
      "execution_count": 10,
      "outputs": []
    },
    {
      "cell_type": "code",
      "metadata": {
        "id": "zMaMsOp7J2lJ",
        "outputId": "e7a8c25a-1d8c-447d-cdce-7d0e69dadb60",
        "colab": {
          "base_uri": "https://localhost:8080/",
          "height": 204
        }
      },
      "source": [
        "dataX.head()"
      ],
      "execution_count": 11,
      "outputs": [
        {
          "output_type": "execute_result",
          "data": {
            "text/html": [
              "<div>\n",
              "<style scoped>\n",
              "    .dataframe tbody tr th:only-of-type {\n",
              "        vertical-align: middle;\n",
              "    }\n",
              "\n",
              "    .dataframe tbody tr th {\n",
              "        vertical-align: top;\n",
              "    }\n",
              "\n",
              "    .dataframe thead th {\n",
              "        text-align: right;\n",
              "    }\n",
              "</style>\n",
              "<table border=\"1\" class=\"dataframe\">\n",
              "  <thead>\n",
              "    <tr style=\"text-align: right;\">\n",
              "      <th></th>\n",
              "      <th>Soil_Moisture</th>\n",
              "      <th>Elevation</th>\n",
              "    </tr>\n",
              "  </thead>\n",
              "  <tbody>\n",
              "    <tr>\n",
              "      <th>0</th>\n",
              "      <td>#ffe300</td>\n",
              "      <td>#cfc40a</td>\n",
              "    </tr>\n",
              "    <tr>\n",
              "      <th>1</th>\n",
              "      <td>#00b164</td>\n",
              "      <td>#4ac233</td>\n",
              "    </tr>\n",
              "    <tr>\n",
              "      <th>2</th>\n",
              "      <td>#ffec00</td>\n",
              "      <td>#57c52e</td>\n",
              "    </tr>\n",
              "    <tr>\n",
              "      <th>3</th>\n",
              "      <td>#00bd7c</td>\n",
              "      <td>#cbca0a</td>\n",
              "    </tr>\n",
              "    <tr>\n",
              "      <th>4</th>\n",
              "      <td>#3b9d00</td>\n",
              "      <td>#29333d</td>\n",
              "    </tr>\n",
              "  </tbody>\n",
              "</table>\n",
              "</div>"
            ],
            "text/plain": [
              "  Soil_Moisture Elevation\n",
              "0       #ffe300   #cfc40a\n",
              "1       #00b164   #4ac233\n",
              "2       #ffec00   #57c52e\n",
              "3       #00bd7c   #cbca0a\n",
              "4       #3b9d00   #29333d"
            ]
          },
          "metadata": {
            "tags": []
          },
          "execution_count": 11
        }
      ]
    },
    {
      "cell_type": "markdown",
      "metadata": {
        "id": "jYT52YRDju1H"
      },
      "source": [
        "Converting the hex code to rgb components and storing them"
      ]
    },
    {
      "cell_type": "code",
      "metadata": {
        "id": "pKo0MD2WHWy-",
        "outputId": "63e2d507-1326-4d0d-d58f-85d969ef58ba",
        "colab": {
          "base_uri": "https://localhost:8080/",
          "height": 1000
        }
      },
      "source": [
        "count = 0\n",
        "r,g,b,r1, g1, b1 = [],[],[],[],[],[]\n",
        "for index, row in dataX.iterrows():\n",
        "  print(count)\n",
        "  hex = dataX.iloc[count][0]\n",
        "  rgb =  ImageColor.getcolor(str(hex), \"RGB\")\n",
        "  r.append(rgb[0])\n",
        "  g.append(rgb[1])\n",
        "  b.append(rgb[2])\n",
        "  hex = dataX.iloc[count][1]\n",
        "  rgb =  ImageColor.getcolor(str(hex), \"RGB\")\n",
        "  r1.append(rgb[0])\n",
        "  g1.append(rgb[1])\n",
        "  b1.append(rgb[2])\n",
        "  count += 1"
      ],
      "execution_count": 12,
      "outputs": [
        {
          "output_type": "stream",
          "text": [
            "0\n",
            "1\n",
            "2\n",
            "3\n",
            "4\n",
            "5\n",
            "6\n",
            "7\n",
            "8\n",
            "9\n",
            "10\n",
            "11\n",
            "12\n",
            "13\n",
            "14\n",
            "15\n",
            "16\n",
            "17\n",
            "18\n",
            "19\n",
            "20\n",
            "21\n",
            "22\n",
            "23\n",
            "24\n",
            "25\n",
            "26\n",
            "27\n",
            "28\n",
            "29\n",
            "30\n",
            "31\n",
            "32\n",
            "33\n",
            "34\n",
            "35\n",
            "36\n",
            "37\n",
            "38\n",
            "39\n",
            "40\n",
            "41\n",
            "42\n",
            "43\n",
            "44\n",
            "45\n",
            "46\n",
            "47\n",
            "48\n",
            "49\n",
            "50\n",
            "51\n",
            "52\n",
            "53\n",
            "54\n",
            "55\n",
            "56\n",
            "57\n",
            "58\n",
            "59\n",
            "60\n",
            "61\n",
            "62\n",
            "63\n",
            "64\n",
            "65\n",
            "66\n",
            "67\n",
            "68\n",
            "69\n",
            "70\n",
            "71\n",
            "72\n",
            "73\n",
            "74\n",
            "75\n",
            "76\n",
            "77\n",
            "78\n",
            "79\n",
            "80\n",
            "81\n",
            "82\n",
            "83\n",
            "84\n",
            "85\n",
            "86\n",
            "87\n",
            "88\n",
            "89\n",
            "90\n",
            "91\n",
            "92\n",
            "93\n",
            "94\n",
            "95\n",
            "96\n",
            "97\n",
            "98\n",
            "99\n",
            "100\n",
            "101\n",
            "102\n",
            "103\n",
            "104\n",
            "105\n",
            "106\n",
            "107\n",
            "108\n",
            "109\n",
            "110\n",
            "111\n",
            "112\n",
            "113\n",
            "114\n",
            "115\n",
            "116\n",
            "117\n",
            "118\n",
            "119\n",
            "120\n",
            "121\n",
            "122\n",
            "123\n",
            "124\n",
            "125\n",
            "126\n",
            "127\n",
            "128\n",
            "129\n",
            "130\n",
            "131\n",
            "132\n",
            "133\n",
            "134\n",
            "135\n",
            "136\n",
            "137\n",
            "138\n",
            "139\n",
            "140\n",
            "141\n",
            "142\n",
            "143\n",
            "144\n",
            "145\n",
            "146\n",
            "147\n",
            "148\n",
            "149\n",
            "150\n",
            "151\n",
            "152\n",
            "153\n",
            "154\n",
            "155\n",
            "156\n",
            "157\n",
            "158\n",
            "159\n",
            "160\n",
            "161\n",
            "162\n",
            "163\n",
            "164\n",
            "165\n",
            "166\n",
            "167\n",
            "168\n",
            "169\n",
            "170\n",
            "171\n",
            "172\n",
            "173\n",
            "174\n",
            "175\n",
            "176\n",
            "177\n",
            "178\n",
            "179\n",
            "180\n",
            "181\n",
            "182\n",
            "183\n",
            "184\n",
            "185\n",
            "186\n",
            "187\n",
            "188\n",
            "189\n",
            "190\n",
            "191\n",
            "192\n",
            "193\n",
            "194\n",
            "195\n",
            "196\n",
            "197\n",
            "198\n",
            "199\n",
            "200\n",
            "201\n",
            "202\n",
            "203\n",
            "204\n",
            "205\n",
            "206\n",
            "207\n",
            "208\n",
            "209\n",
            "210\n",
            "211\n",
            "212\n",
            "213\n",
            "214\n",
            "215\n",
            "216\n",
            "217\n",
            "218\n",
            "219\n",
            "220\n",
            "221\n",
            "222\n",
            "223\n",
            "224\n",
            "225\n",
            "226\n",
            "227\n",
            "228\n",
            "229\n",
            "230\n",
            "231\n",
            "232\n",
            "233\n",
            "234\n",
            "235\n",
            "236\n",
            "237\n",
            "238\n",
            "239\n",
            "240\n",
            "241\n",
            "242\n",
            "243\n",
            "244\n",
            "245\n",
            "246\n",
            "247\n",
            "248\n",
            "249\n",
            "250\n",
            "251\n",
            "252\n",
            "253\n",
            "254\n",
            "255\n",
            "256\n",
            "257\n",
            "258\n",
            "259\n",
            "260\n",
            "261\n",
            "262\n",
            "263\n",
            "264\n",
            "265\n",
            "266\n",
            "267\n",
            "268\n",
            "269\n",
            "270\n",
            "271\n",
            "272\n",
            "273\n",
            "274\n",
            "275\n",
            "276\n",
            "277\n",
            "278\n",
            "279\n",
            "280\n",
            "281\n",
            "282\n",
            "283\n",
            "284\n",
            "285\n",
            "286\n",
            "287\n",
            "288\n",
            "289\n",
            "290\n",
            "291\n",
            "292\n",
            "293\n",
            "294\n",
            "295\n",
            "296\n",
            "297\n",
            "298\n",
            "299\n",
            "300\n",
            "301\n",
            "302\n",
            "303\n",
            "304\n",
            "305\n",
            "306\n",
            "307\n",
            "308\n",
            "309\n",
            "310\n",
            "311\n",
            "312\n",
            "313\n",
            "314\n",
            "315\n",
            "316\n",
            "317\n",
            "318\n",
            "319\n",
            "320\n",
            "321\n",
            "322\n",
            "323\n",
            "324\n",
            "325\n",
            "326\n",
            "327\n",
            "328\n",
            "329\n",
            "330\n",
            "331\n",
            "332\n",
            "333\n",
            "334\n",
            "335\n",
            "336\n",
            "337\n",
            "338\n",
            "339\n",
            "340\n",
            "341\n",
            "342\n",
            "343\n",
            "344\n",
            "345\n",
            "346\n",
            "347\n",
            "348\n",
            "349\n",
            "350\n",
            "351\n",
            "352\n",
            "353\n",
            "354\n",
            "355\n",
            "356\n",
            "357\n",
            "358\n",
            "359\n",
            "360\n",
            "361\n",
            "362\n",
            "363\n",
            "364\n",
            "365\n",
            "366\n",
            "367\n",
            "368\n",
            "369\n",
            "370\n",
            "371\n",
            "372\n",
            "373\n",
            "374\n",
            "375\n",
            "376\n",
            "377\n",
            "378\n",
            "379\n",
            "380\n",
            "381\n",
            "382\n",
            "383\n",
            "384\n",
            "385\n",
            "386\n",
            "387\n",
            "388\n",
            "389\n",
            "390\n",
            "391\n",
            "392\n",
            "393\n",
            "394\n",
            "395\n",
            "396\n",
            "397\n",
            "398\n",
            "399\n",
            "400\n",
            "401\n",
            "402\n",
            "403\n",
            "404\n",
            "405\n",
            "406\n",
            "407\n",
            "408\n",
            "409\n",
            "410\n",
            "411\n",
            "412\n",
            "413\n",
            "414\n",
            "415\n",
            "416\n",
            "417\n",
            "418\n",
            "419\n",
            "420\n",
            "421\n",
            "422\n",
            "423\n",
            "424\n",
            "425\n",
            "426\n",
            "427\n",
            "428\n",
            "429\n",
            "430\n",
            "431\n",
            "432\n",
            "433\n",
            "434\n",
            "435\n",
            "436\n",
            "437\n",
            "438\n",
            "439\n",
            "440\n",
            "441\n",
            "442\n",
            "443\n",
            "444\n",
            "445\n",
            "446\n",
            "447\n",
            "448\n",
            "449\n",
            "450\n",
            "451\n",
            "452\n",
            "453\n",
            "454\n",
            "455\n",
            "456\n",
            "457\n",
            "458\n",
            "459\n",
            "460\n",
            "461\n",
            "462\n",
            "463\n",
            "464\n",
            "465\n",
            "466\n",
            "467\n",
            "468\n",
            "469\n",
            "470\n",
            "471\n",
            "472\n",
            "473\n",
            "474\n",
            "475\n",
            "476\n",
            "477\n",
            "478\n",
            "479\n",
            "480\n",
            "481\n",
            "482\n",
            "483\n",
            "484\n",
            "485\n",
            "486\n",
            "487\n",
            "488\n",
            "489\n",
            "490\n",
            "491\n",
            "492\n",
            "493\n",
            "494\n",
            "495\n",
            "496\n",
            "497\n",
            "498\n",
            "499\n",
            "500\n",
            "501\n",
            "502\n",
            "503\n",
            "504\n",
            "505\n",
            "506\n",
            "507\n",
            "508\n",
            "509\n",
            "510\n",
            "511\n",
            "512\n",
            "513\n",
            "514\n",
            "515\n",
            "516\n",
            "517\n",
            "518\n",
            "519\n",
            "520\n",
            "521\n",
            "522\n",
            "523\n",
            "524\n",
            "525\n",
            "526\n",
            "527\n",
            "528\n",
            "529\n",
            "530\n",
            "531\n",
            "532\n",
            "533\n",
            "534\n",
            "535\n",
            "536\n",
            "537\n",
            "538\n",
            "539\n",
            "540\n",
            "541\n",
            "542\n",
            "543\n",
            "544\n",
            "545\n",
            "546\n",
            "547\n",
            "548\n",
            "549\n",
            "550\n",
            "551\n",
            "552\n",
            "553\n",
            "554\n",
            "555\n",
            "556\n",
            "557\n",
            "558\n",
            "559\n",
            "560\n",
            "561\n",
            "562\n",
            "563\n",
            "564\n",
            "565\n",
            "566\n",
            "567\n",
            "568\n",
            "569\n",
            "570\n",
            "571\n",
            "572\n",
            "573\n",
            "574\n",
            "575\n",
            "576\n",
            "577\n",
            "578\n",
            "579\n",
            "580\n",
            "581\n",
            "582\n",
            "583\n",
            "584\n",
            "585\n",
            "586\n",
            "587\n",
            "588\n",
            "589\n",
            "590\n",
            "591\n",
            "592\n",
            "593\n",
            "594\n",
            "595\n",
            "596\n",
            "597\n",
            "598\n",
            "599\n",
            "600\n",
            "601\n",
            "602\n",
            "603\n",
            "604\n",
            "605\n",
            "606\n",
            "607\n",
            "608\n",
            "609\n",
            "610\n",
            "611\n",
            "612\n",
            "613\n",
            "614\n",
            "615\n",
            "616\n",
            "617\n",
            "618\n",
            "619\n",
            "620\n",
            "621\n",
            "622\n",
            "623\n",
            "624\n",
            "625\n",
            "626\n",
            "627\n",
            "628\n",
            "629\n",
            "630\n",
            "631\n",
            "632\n",
            "633\n",
            "634\n",
            "635\n",
            "636\n",
            "637\n",
            "638\n",
            "639\n",
            "640\n",
            "641\n",
            "642\n",
            "643\n",
            "644\n",
            "645\n",
            "646\n",
            "647\n",
            "648\n",
            "649\n",
            "650\n",
            "651\n",
            "652\n",
            "653\n",
            "654\n",
            "655\n",
            "656\n",
            "657\n",
            "658\n",
            "659\n",
            "660\n",
            "661\n",
            "662\n",
            "663\n",
            "664\n",
            "665\n",
            "666\n"
          ],
          "name": "stdout"
        }
      ]
    },
    {
      "cell_type": "code",
      "metadata": {
        "id": "U3gSXQz7KSv4",
        "outputId": "42cbae14-c874-4a8f-8a49-24e003cac3e0",
        "colab": {
          "base_uri": "https://localhost:8080/",
          "height": 34
        }
      },
      "source": [
        "len(r1)"
      ],
      "execution_count": 13,
      "outputs": [
        {
          "output_type": "execute_result",
          "data": {
            "text/plain": [
              "667"
            ]
          },
          "metadata": {
            "tags": []
          },
          "execution_count": 13
        }
      ]
    },
    {
      "cell_type": "code",
      "metadata": {
        "id": "V-X8Nlq2KvVZ"
      },
      "source": [
        "new_columns = [\"R_soil\", \"G_soil\", \"B_soil\", \"R_ele\", \"G_ele\", \"B_ele\"]"
      ],
      "execution_count": 14,
      "outputs": []
    },
    {
      "cell_type": "code",
      "metadata": {
        "id": "6Y7F9BtJLGbd"
      },
      "source": [
        "df[new_columns[0]] = r\n",
        "df[new_columns[1]] = g\n",
        "df[new_columns[2]] = b\n",
        "df[new_columns[3]] = r1\n",
        "df[new_columns[4]] = g1\n",
        "df[new_columns[5]] = b1"
      ],
      "execution_count": 15,
      "outputs": []
    },
    {
      "cell_type": "code",
      "metadata": {
        "id": "KlmSJPJyLNn1",
        "outputId": "06584dfb-e31c-4edd-e378-028af105a3e5",
        "colab": {
          "base_uri": "https://localhost:8080/",
          "height": 241
        }
      },
      "source": [
        "df.head()"
      ],
      "execution_count": 16,
      "outputs": [
        {
          "output_type": "execute_result",
          "data": {
            "text/html": [
              "<div>\n",
              "<style scoped>\n",
              "    .dataframe tbody tr th:only-of-type {\n",
              "        vertical-align: middle;\n",
              "    }\n",
              "\n",
              "    .dataframe tbody tr th {\n",
              "        vertical-align: top;\n",
              "    }\n",
              "\n",
              "    .dataframe thead th {\n",
              "        text-align: right;\n",
              "    }\n",
              "</style>\n",
              "<table border=\"1\" class=\"dataframe\">\n",
              "  <thead>\n",
              "    <tr style=\"text-align: right;\">\n",
              "      <th></th>\n",
              "      <th>Row</th>\n",
              "      <th>Latitude</th>\n",
              "      <th>Longitude</th>\n",
              "      <th>ID</th>\n",
              "      <th>Time</th>\n",
              "      <th>Locust</th>\n",
              "      <th>Soil_Moisture</th>\n",
              "      <th>Wind</th>\n",
              "      <th>Vegetation_Index</th>\n",
              "      <th>Humidity_D</th>\n",
              "      <th>Humidity_N</th>\n",
              "      <th>Elevation</th>\n",
              "      <th>Temperature_D</th>\n",
              "      <th>Temperature_N</th>\n",
              "      <th>Unnamed: 0</th>\n",
              "      <th>R_soil</th>\n",
              "      <th>G_soil</th>\n",
              "      <th>B_soil</th>\n",
              "      <th>R_ele</th>\n",
              "      <th>G_ele</th>\n",
              "      <th>B_ele</th>\n",
              "    </tr>\n",
              "  </thead>\n",
              "  <tbody>\n",
              "    <tr>\n",
              "      <th>0</th>\n",
              "      <td>0.0</td>\n",
              "      <td>-12.959167</td>\n",
              "      <td>19.792500</td>\n",
              "      <td>22258.0</td>\n",
              "      <td>10/5/2016</td>\n",
              "      <td>1.0</td>\n",
              "      <td>#ffe300</td>\n",
              "      <td>#636967</td>\n",
              "      <td>#636967</td>\n",
              "      <td>#636967</td>\n",
              "      <td>#636967</td>\n",
              "      <td>#cfc40a</td>\n",
              "      <td>#636967</td>\n",
              "      <td>#636967</td>\n",
              "      <td>NaN</td>\n",
              "      <td>255</td>\n",
              "      <td>227</td>\n",
              "      <td>0</td>\n",
              "      <td>207</td>\n",
              "      <td>196</td>\n",
              "      <td>10</td>\n",
              "    </tr>\n",
              "    <tr>\n",
              "      <th>1</th>\n",
              "      <td>1.0</td>\n",
              "      <td>49.514444</td>\n",
              "      <td>16.706667</td>\n",
              "      <td>22259.0</td>\n",
              "      <td>4/14/2016</td>\n",
              "      <td>1.0</td>\n",
              "      <td>#00b164</td>\n",
              "      <td>#e7e7e7</td>\n",
              "      <td>#e7e7e7</td>\n",
              "      <td>#e7e7e7</td>\n",
              "      <td>#e7e7e7</td>\n",
              "      <td>#4ac233</td>\n",
              "      <td>#e7e7e7</td>\n",
              "      <td>#e7e7e7</td>\n",
              "      <td>NaN</td>\n",
              "      <td>0</td>\n",
              "      <td>177</td>\n",
              "      <td>100</td>\n",
              "      <td>74</td>\n",
              "      <td>194</td>\n",
              "      <td>51</td>\n",
              "    </tr>\n",
              "    <tr>\n",
              "      <th>2</th>\n",
              "      <td>2.0</td>\n",
              "      <td>43.128889</td>\n",
              "      <td>10.635278</td>\n",
              "      <td>22260.0</td>\n",
              "      <td>9/6/2016</td>\n",
              "      <td>1.0</td>\n",
              "      <td>#ffec00</td>\n",
              "      <td>#f5dcdf</td>\n",
              "      <td>#f5dcdf</td>\n",
              "      <td>#f5dcdf</td>\n",
              "      <td>#f5dcdf</td>\n",
              "      <td>#57c52e</td>\n",
              "      <td>#f5dcdf</td>\n",
              "      <td>#f5dcdf</td>\n",
              "      <td>NaN</td>\n",
              "      <td>255</td>\n",
              "      <td>236</td>\n",
              "      <td>0</td>\n",
              "      <td>87</td>\n",
              "      <td>197</td>\n",
              "      <td>46</td>\n",
              "    </tr>\n",
              "    <tr>\n",
              "      <th>3</th>\n",
              "      <td>3.0</td>\n",
              "      <td>44.483333</td>\n",
              "      <td>16.316667</td>\n",
              "      <td>22261.0</td>\n",
              "      <td>6/25/2016</td>\n",
              "      <td>1.0</td>\n",
              "      <td>#00bd7c</td>\n",
              "      <td>#cccecb</td>\n",
              "      <td>#cccecb</td>\n",
              "      <td>#cccecb</td>\n",
              "      <td>#cccecb</td>\n",
              "      <td>#cbca0a</td>\n",
              "      <td>#cccecb</td>\n",
              "      <td>#cccecb</td>\n",
              "      <td>NaN</td>\n",
              "      <td>0</td>\n",
              "      <td>189</td>\n",
              "      <td>124</td>\n",
              "      <td>203</td>\n",
              "      <td>202</td>\n",
              "      <td>10</td>\n",
              "    </tr>\n",
              "    <tr>\n",
              "      <th>4</th>\n",
              "      <td>4.0</td>\n",
              "      <td>44.250000</td>\n",
              "      <td>15.016667</td>\n",
              "      <td>22262.0</td>\n",
              "      <td>6/25/2016</td>\n",
              "      <td>1.0</td>\n",
              "      <td>#3b9d00</td>\n",
              "      <td>#29333d</td>\n",
              "      <td>#29333d</td>\n",
              "      <td>#29333d</td>\n",
              "      <td>#29333d</td>\n",
              "      <td>#29333d</td>\n",
              "      <td>#29333d</td>\n",
              "      <td>#29333d</td>\n",
              "      <td>NaN</td>\n",
              "      <td>59</td>\n",
              "      <td>157</td>\n",
              "      <td>0</td>\n",
              "      <td>41</td>\n",
              "      <td>51</td>\n",
              "      <td>61</td>\n",
              "    </tr>\n",
              "  </tbody>\n",
              "</table>\n",
              "</div>"
            ],
            "text/plain": [
              "   Row  Latitude   Longitude        ID  ... B_soil  R_ele G_ele B_ele\n",
              "0  0.0 -12.959167   19.792500  22258.0  ...      0    207   196    10\n",
              "1  1.0  49.514444   16.706667  22259.0  ...    100     74   194    51\n",
              "2  2.0  43.128889   10.635278  22260.0  ...      0     87   197    46\n",
              "3  3.0  44.483333   16.316667  22261.0  ...    124    203   202    10\n",
              "4  4.0  44.250000   15.016667  22262.0  ...      0     41    51    61\n",
              "\n",
              "[5 rows x 21 columns]"
            ]
          },
          "metadata": {
            "tags": []
          },
          "execution_count": 16
        }
      ]
    },
    {
      "cell_type": "code",
      "metadata": {
        "id": "1HI138IXLX4j"
      },
      "source": [
        "X = df[df.columns[[15,16,17,18,19,20]]]\n"
      ],
      "execution_count": 17,
      "outputs": []
    },
    {
      "cell_type": "code",
      "metadata": {
        "id": "CZ75Jwa5Gc-G",
        "outputId": "05963423-e7b1-4c48-bb95-48b3dbedbe1d",
        "colab": {
          "base_uri": "https://localhost:8080/",
          "height": 419
        }
      },
      "source": [
        "dataY.astype(int)"
      ],
      "execution_count": 18,
      "outputs": [
        {
          "output_type": "execute_result",
          "data": {
            "text/html": [
              "<div>\n",
              "<style scoped>\n",
              "    .dataframe tbody tr th:only-of-type {\n",
              "        vertical-align: middle;\n",
              "    }\n",
              "\n",
              "    .dataframe tbody tr th {\n",
              "        vertical-align: top;\n",
              "    }\n",
              "\n",
              "    .dataframe thead th {\n",
              "        text-align: right;\n",
              "    }\n",
              "</style>\n",
              "<table border=\"1\" class=\"dataframe\">\n",
              "  <thead>\n",
              "    <tr style=\"text-align: right;\">\n",
              "      <th></th>\n",
              "      <th>Locust</th>\n",
              "    </tr>\n",
              "  </thead>\n",
              "  <tbody>\n",
              "    <tr>\n",
              "      <th>0</th>\n",
              "      <td>1</td>\n",
              "    </tr>\n",
              "    <tr>\n",
              "      <th>1</th>\n",
              "      <td>1</td>\n",
              "    </tr>\n",
              "    <tr>\n",
              "      <th>2</th>\n",
              "      <td>1</td>\n",
              "    </tr>\n",
              "    <tr>\n",
              "      <th>3</th>\n",
              "      <td>1</td>\n",
              "    </tr>\n",
              "    <tr>\n",
              "      <th>4</th>\n",
              "      <td>1</td>\n",
              "    </tr>\n",
              "    <tr>\n",
              "      <th>...</th>\n",
              "      <td>...</td>\n",
              "    </tr>\n",
              "    <tr>\n",
              "      <th>291</th>\n",
              "      <td>0</td>\n",
              "    </tr>\n",
              "    <tr>\n",
              "      <th>292</th>\n",
              "      <td>0</td>\n",
              "    </tr>\n",
              "    <tr>\n",
              "      <th>293</th>\n",
              "      <td>0</td>\n",
              "    </tr>\n",
              "    <tr>\n",
              "      <th>294</th>\n",
              "      <td>0</td>\n",
              "    </tr>\n",
              "    <tr>\n",
              "      <th>295</th>\n",
              "      <td>0</td>\n",
              "    </tr>\n",
              "  </tbody>\n",
              "</table>\n",
              "<p>667 rows × 1 columns</p>\n",
              "</div>"
            ],
            "text/plain": [
              "     Locust\n",
              "0         1\n",
              "1         1\n",
              "2         1\n",
              "3         1\n",
              "4         1\n",
              "..      ...\n",
              "291       0\n",
              "292       0\n",
              "293       0\n",
              "294       0\n",
              "295       0\n",
              "\n",
              "[667 rows x 1 columns]"
            ]
          },
          "metadata": {
            "tags": []
          },
          "execution_count": 18
        }
      ]
    },
    {
      "cell_type": "markdown",
      "metadata": {
        "id": "MF_XS05FkAVe"
      },
      "source": [
        "Train-Test Split"
      ]
    },
    {
      "cell_type": "code",
      "metadata": {
        "id": "CQSY_ww0GT_w"
      },
      "source": [
        "X_train, X_test, y_train, y_test = train_test_split(X, dataY, test_size=0.2)"
      ],
      "execution_count": 60,
      "outputs": []
    },
    {
      "cell_type": "markdown",
      "metadata": {
        "id": "NScKHCUFkDau"
      },
      "source": [
        "Random Forest Classifier"
      ]
    },
    {
      "cell_type": "code",
      "metadata": {
        "id": "HBxVaJfZGwP1"
      },
      "source": [
        "clf=RandomForestClassifier(n_estimators=100)"
      ],
      "execution_count": 61,
      "outputs": []
    },
    {
      "cell_type": "code",
      "metadata": {
        "id": "tC0b46kLG20C",
        "outputId": "ff87a1e0-8270-45ee-e5dd-654318f55824",
        "colab": {
          "base_uri": "https://localhost:8080/",
          "height": 419
        }
      },
      "source": [
        "X_train"
      ],
      "execution_count": 62,
      "outputs": [
        {
          "output_type": "execute_result",
          "data": {
            "text/html": [
              "<div>\n",
              "<style scoped>\n",
              "    .dataframe tbody tr th:only-of-type {\n",
              "        vertical-align: middle;\n",
              "    }\n",
              "\n",
              "    .dataframe tbody tr th {\n",
              "        vertical-align: top;\n",
              "    }\n",
              "\n",
              "    .dataframe thead th {\n",
              "        text-align: right;\n",
              "    }\n",
              "</style>\n",
              "<table border=\"1\" class=\"dataframe\">\n",
              "  <thead>\n",
              "    <tr style=\"text-align: right;\">\n",
              "      <th></th>\n",
              "      <th>R_soil</th>\n",
              "      <th>G_soil</th>\n",
              "      <th>B_soil</th>\n",
              "      <th>R_ele</th>\n",
              "      <th>G_ele</th>\n",
              "      <th>B_ele</th>\n",
              "    </tr>\n",
              "  </thead>\n",
              "  <tbody>\n",
              "    <tr>\n",
              "      <th>188</th>\n",
              "      <td>97</td>\n",
              "      <td>101</td>\n",
              "      <td>110</td>\n",
              "      <td>97</td>\n",
              "      <td>101</td>\n",
              "      <td>110</td>\n",
              "    </tr>\n",
              "    <tr>\n",
              "      <th>290</th>\n",
              "      <td>105</td>\n",
              "      <td>108</td>\n",
              "      <td>115</td>\n",
              "      <td>105</td>\n",
              "      <td>108</td>\n",
              "      <td>115</td>\n",
              "    </tr>\n",
              "    <tr>\n",
              "      <th>266</th>\n",
              "      <td>255</td>\n",
              "      <td>229</td>\n",
              "      <td>0</td>\n",
              "      <td>208</td>\n",
              "      <td>170</td>\n",
              "      <td>12</td>\n",
              "    </tr>\n",
              "    <tr>\n",
              "      <th>175</th>\n",
              "      <td>59</td>\n",
              "      <td>157</td>\n",
              "      <td>0</td>\n",
              "      <td>29</td>\n",
              "      <td>39</td>\n",
              "      <td>49</td>\n",
              "    </tr>\n",
              "    <tr>\n",
              "      <th>244</th>\n",
              "      <td>255</td>\n",
              "      <td>241</td>\n",
              "      <td>0</td>\n",
              "      <td>22</td>\n",
              "      <td>34</td>\n",
              "      <td>46</td>\n",
              "    </tr>\n",
              "    <tr>\n",
              "      <th>...</th>\n",
              "      <td>...</td>\n",
              "      <td>...</td>\n",
              "      <td>...</td>\n",
              "      <td>...</td>\n",
              "      <td>...</td>\n",
              "      <td>...</td>\n",
              "    </tr>\n",
              "    <tr>\n",
              "      <th>270</th>\n",
              "      <td>182</td>\n",
              "      <td>176</td>\n",
              "      <td>178</td>\n",
              "      <td>182</td>\n",
              "      <td>176</td>\n",
              "      <td>178</td>\n",
              "    </tr>\n",
              "    <tr>\n",
              "      <th>259</th>\n",
              "      <td>0</td>\n",
              "      <td>180</td>\n",
              "      <td>106</td>\n",
              "      <td>0</td>\n",
              "      <td>134</td>\n",
              "      <td>50</td>\n",
              "    </tr>\n",
              "    <tr>\n",
              "      <th>326</th>\n",
              "      <td>62</td>\n",
              "      <td>71</td>\n",
              "      <td>76</td>\n",
              "      <td>62</td>\n",
              "      <td>71</td>\n",
              "      <td>76</td>\n",
              "    </tr>\n",
              "    <tr>\n",
              "      <th>150</th>\n",
              "      <td>130</td>\n",
              "      <td>193</td>\n",
              "      <td>0</td>\n",
              "      <td>0</td>\n",
              "      <td>162</td>\n",
              "      <td>69</td>\n",
              "    </tr>\n",
              "    <tr>\n",
              "      <th>95</th>\n",
              "      <td>80</td>\n",
              "      <td>95</td>\n",
              "      <td>114</td>\n",
              "      <td>80</td>\n",
              "      <td>95</td>\n",
              "      <td>114</td>\n",
              "    </tr>\n",
              "  </tbody>\n",
              "</table>\n",
              "<p>533 rows × 6 columns</p>\n",
              "</div>"
            ],
            "text/plain": [
              "     R_soil  G_soil  B_soil  R_ele  G_ele  B_ele\n",
              "188      97     101     110     97    101    110\n",
              "290     105     108     115    105    108    115\n",
              "266     255     229       0    208    170     12\n",
              "175      59     157       0     29     39     49\n",
              "244     255     241       0     22     34     46\n",
              "..      ...     ...     ...    ...    ...    ...\n",
              "270     182     176     178    182    176    178\n",
              "259       0     180     106      0    134     50\n",
              "326      62      71      76     62     71     76\n",
              "150     130     193       0      0    162     69\n",
              "95       80      95     114     80     95    114\n",
              "\n",
              "[533 rows x 6 columns]"
            ]
          },
          "metadata": {
            "tags": []
          },
          "execution_count": 62
        }
      ]
    },
    {
      "cell_type": "code",
      "metadata": {
        "id": "m0g5ZbHYLo-g"
      },
      "source": [
        "y_train = list(y_train[y_train.columns[0]])\n",
        "y_test = list(y_test[y_test.columns[0]])"
      ],
      "execution_count": 63,
      "outputs": []
    },
    {
      "cell_type": "code",
      "metadata": {
        "id": "2z6e_prOHRSJ"
      },
      "source": [
        "clf = clf.fit(X_train,y_train)"
      ],
      "execution_count": 64,
      "outputs": []
    },
    {
      "cell_type": "code",
      "metadata": {
        "id": "6gxs1GYgLq4M"
      },
      "source": [
        "y_pred = clf.predict(X_test)"
      ],
      "execution_count": 65,
      "outputs": []
    },
    {
      "cell_type": "code",
      "metadata": {
        "id": "ROUvDVLsMxMW",
        "outputId": "d20afa65-27ee-40b1-e372-d9422838d247",
        "colab": {
          "base_uri": "https://localhost:8080/",
          "height": 51
        }
      },
      "source": [
        "print(\"Training Accuracy:\",metrics.accuracy_score(y_train, clf.predict(X_train)))\n",
        "print(\"Test Accuracy:\",metrics.accuracy_score(y_test, y_pred))\n",
        "base_accuracy = metrics.accuracy_score(y_test, y_pred)"
      ],
      "execution_count": 66,
      "outputs": [
        {
          "output_type": "stream",
          "text": [
            "Training Accuracy: 0.9924953095684803\n",
            "Test Accuracy: 0.6716417910447762\n"
          ],
          "name": "stdout"
        }
      ]
    },
    {
      "cell_type": "code",
      "metadata": {
        "id": "glSth_j7M50O"
      },
      "source": [
        "cm = metrics.confusion_matrix(y_test,y_pred)"
      ],
      "execution_count": 67,
      "outputs": []
    },
    {
      "cell_type": "code",
      "metadata": {
        "id": "7PNOXhesNAHH",
        "outputId": "4f5ea30f-549e-4095-fdfc-2c5c23f87953",
        "colab": {
          "base_uri": "https://localhost:8080/",
          "height": 51
        }
      },
      "source": [
        "cm"
      ],
      "execution_count": 68,
      "outputs": [
        {
          "output_type": "execute_result",
          "data": {
            "text/plain": [
              "array([[37, 17],\n",
              "       [27, 53]])"
            ]
          },
          "metadata": {
            "tags": []
          },
          "execution_count": 68
        }
      ]
    },
    {
      "cell_type": "markdown",
      "metadata": {
        "id": "KmrljlF0kHV4"
      },
      "source": [
        "Hyperparameter Tuning"
      ]
    },
    {
      "cell_type": "code",
      "metadata": {
        "id": "kjqIAXA_N8JF",
        "outputId": "54637a50-c37a-4f38-d5c9-cf13e5356dae",
        "colab": {
          "base_uri": "https://localhost:8080/",
          "height": 54
        }
      },
      "source": [
        "n_estimators = [int(x) for x in np.linspace(start = 100, stop = 2000, num = 10)]\n",
        "max_features = ['auto', 'sqrt']\n",
        "max_depth = [int(x) for x in np.linspace(5, 110, num = 10)]\n",
        "max_depth.append(None)\n",
        "min_samples_split = [2, 5, 10]\n",
        "min_samples_leaf = [1, 2, 4, 10]\n",
        "bootstrap = [True, False]\n",
        "random_grid = {'n_estimators': n_estimators,\n",
        "               'max_features': max_features,\n",
        "               'max_depth': max_depth,\n",
        "               'min_samples_split': min_samples_split,\n",
        "               'min_samples_leaf': min_samples_leaf,\n",
        "               'bootstrap': bootstrap}\n",
        "print(random_grid)"
      ],
      "execution_count": 70,
      "outputs": [
        {
          "output_type": "stream",
          "text": [
            "{'n_estimators': [100, 311, 522, 733, 944, 1155, 1366, 1577, 1788, 2000], 'max_features': ['auto', 'sqrt'], 'max_depth': [5, 16, 28, 40, 51, 63, 75, 86, 98, 110, None], 'min_samples_split': [2, 5, 10], 'min_samples_leaf': [1, 2, 4, 10], 'bootstrap': [True, False]}\n"
          ],
          "name": "stdout"
        }
      ]
    },
    {
      "cell_type": "code",
      "metadata": {
        "id": "QF-1obZxOKew",
        "outputId": "4974310e-ecb4-4ad6-8e8e-ca8abeba346b",
        "colab": {
          "base_uri": "https://localhost:8080/",
          "height": 119
        }
      },
      "source": [
        "start_time = time.time()\n",
        "rf = RandomForestClassifier()\n",
        "rf_random = RandomizedSearchCV(estimator = rf, param_distributions = random_grid, n_iter = 100, cv = 3, verbose=2, random_state=42, n_jobs = -1)\n",
        "rf_random.fit(X_train, y_train)\n",
        "print(\"Total time taken--- %s seconds---\" % (time.time() - start_time))"
      ],
      "execution_count": 73,
      "outputs": [
        {
          "output_type": "stream",
          "text": [
            "Fitting 3 folds for each of 100 candidates, totalling 300 fits\n"
          ],
          "name": "stdout"
        },
        {
          "output_type": "stream",
          "text": [
            "[Parallel(n_jobs=-1)]: Using backend LokyBackend with 2 concurrent workers.\n",
            "[Parallel(n_jobs=-1)]: Done  37 tasks      | elapsed:   49.5s\n",
            "[Parallel(n_jobs=-1)]: Done 158 tasks      | elapsed:  3.1min\n",
            "[Parallel(n_jobs=-1)]: Done 300 out of 300 | elapsed:  5.7min finished\n"
          ],
          "name": "stderr"
        },
        {
          "output_type": "stream",
          "text": [
            "Total time taken--- 345.847177028656 seconds---\n"
          ],
          "name": "stdout"
        }
      ]
    },
    {
      "cell_type": "code",
      "metadata": {
        "id": "_r56BLL_OXpu"
      },
      "source": [
        "def evaluate(model, test_features, test_labels):\n",
        "    predictions = model.predict(test_features)\n",
        "    accuracy = metrics.accuracy_score(test_labels, predictions)\n",
        "    print('Model Performance')\n",
        "    print('Accuracy = {:0.2f}%.'.format(accuracy))\n",
        "    \n",
        "    return accuracy, predictions"
      ],
      "execution_count": 74,
      "outputs": []
    },
    {
      "cell_type": "code",
      "metadata": {
        "id": "DniMicDjOmET",
        "outputId": "ead3bdb8-46a8-49e1-82ad-b05dec1c5202",
        "colab": {
          "base_uri": "https://localhost:8080/",
          "height": 68
        }
      },
      "source": [
        "best_random = rf_random.best_estimator_\n",
        "random_accuracy, preds = evaluate(best_random, X_test, y_test)\n",
        "random_accuracy"
      ],
      "execution_count": 75,
      "outputs": [
        {
          "output_type": "stream",
          "text": [
            "Model Performance\n",
            "Accuracy = 0.69%.\n"
          ],
          "name": "stdout"
        },
        {
          "output_type": "execute_result",
          "data": {
            "text/plain": [
              "0.6865671641791045"
            ]
          },
          "metadata": {
            "tags": []
          },
          "execution_count": 75
        }
      ]
    },
    {
      "cell_type": "code",
      "metadata": {
        "id": "RINsDoL_On9j",
        "outputId": "74f7b42d-3f0b-4f9b-e609-94ba39ad9b36",
        "colab": {
          "base_uri": "https://localhost:8080/",
          "height": 34
        }
      },
      "source": [
        "print('Improvement of {:0.2f}%.'.format( 100 * (random_accuracy - base_accuracy) / base_accuracy))"
      ],
      "execution_count": 76,
      "outputs": [
        {
          "output_type": "stream",
          "text": [
            "Improvement of 2.22%.\n"
          ],
          "name": "stdout"
        }
      ]
    },
    {
      "cell_type": "code",
      "metadata": {
        "id": "wxNFLDidQo1A",
        "outputId": "b79b3032-8668-4f0c-abc4-e7b128388a00",
        "colab": {
          "base_uri": "https://localhost:8080/",
          "height": 51
        }
      },
      "source": [
        "cm = metrics.confusion_matrix(y_test,preds)\n",
        "cm"
      ],
      "execution_count": 77,
      "outputs": [
        {
          "output_type": "execute_result",
          "data": {
            "text/plain": [
              "array([[24, 30],\n",
              "       [12, 68]])"
            ]
          },
          "metadata": {
            "tags": []
          },
          "execution_count": 77
        }
      ]
    },
    {
      "cell_type": "code",
      "metadata": {
        "id": "N6FtuH9MRW8T"
      },
      "source": [
        "pickle.dump(best_random, open(\"best_rf_model.sav\", 'wb'))"
      ],
      "execution_count": 80,
      "outputs": []
    },
    {
      "cell_type": "markdown",
      "metadata": {
        "id": "T6rStpsxRvD1"
      },
      "source": [
        "**Support** **Vector** **Machines**"
      ]
    },
    {
      "cell_type": "code",
      "metadata": {
        "id": "X6Go8x9CRztv",
        "outputId": "afc01176-5bb9-4db7-a885-1c6a2e7ac439",
        "colab": {
          "base_uri": "https://localhost:8080/",
          "height": 34
        }
      },
      "source": [
        "svc = svm.SVC(kernel='rbf') \n",
        "\n",
        "svc.fit(X_train, y_train)\n",
        "\n",
        "y_pred = svc.predict(X_test)\n",
        "accuracy = metrics.accuracy_score(y_test, y_pred)\n",
        "print(accuracy)"
      ],
      "execution_count": 94,
      "outputs": [
        {
          "output_type": "stream",
          "text": [
            "0.6865671641791045\n"
          ],
          "name": "stdout"
        }
      ]
    },
    {
      "cell_type": "code",
      "metadata": {
        "id": "YPumr7RFR_dH",
        "outputId": "2bb8c1b9-c132-4757-eb66-5ab651e6c342",
        "colab": {
          "base_uri": "https://localhost:8080/",
          "height": 51
        }
      },
      "source": [
        "print(\"Precision:\",metrics.precision_score(y_test, y_pred))\n",
        "print(\"Recall:\",metrics.recall_score(y_test, y_pred))"
      ],
      "execution_count": 95,
      "outputs": [
        {
          "output_type": "stream",
          "text": [
            "Precision: 0.7021276595744681\n",
            "Recall: 0.825\n"
          ],
          "name": "stdout"
        }
      ]
    },
    {
      "cell_type": "code",
      "metadata": {
        "id": "2ACCR4qsSg1D",
        "outputId": "447cd539-7f74-4fb4-94ff-0618a363a926",
        "colab": {
          "base_uri": "https://localhost:8080/",
          "height": 238
        }
      },
      "source": [
        "print(\"Train accuracy\", metrics.accuracy_score(y_train, svc.predict(X_train)))\n",
        "print(\"Test accuracy\", accuracy)\n",
        "print(metrics.confusion_matrix(y_test,y_pred))\n",
        "print(metrics.classification_report(y_test,y_pred))"
      ],
      "execution_count": 98,
      "outputs": [
        {
          "output_type": "stream",
          "text": [
            "Train accuracy 0.6791744840525328\n",
            "Test accuracy 0.6865671641791045\n",
            "[[26 28]\n",
            " [14 66]]\n",
            "              precision    recall  f1-score   support\n",
            "\n",
            "         0.0       0.65      0.48      0.55        54\n",
            "         1.0       0.70      0.82      0.76        80\n",
            "\n",
            "    accuracy                           0.69       134\n",
            "   macro avg       0.68      0.65      0.66       134\n",
            "weighted avg       0.68      0.69      0.68       134\n",
            "\n"
          ],
          "name": "stdout"
        }
      ]
    },
    {
      "cell_type": "markdown",
      "metadata": {
        "id": "TR1gi05CkMtt"
      },
      "source": [
        "Hyperparameter tuning"
      ]
    },
    {
      "cell_type": "code",
      "metadata": {
        "id": "ptOMyZg1SYfy"
      },
      "source": [
        "param_grid = {'C': [0.1,1, 10, 100], 'gamma': [1,0.1,0.01,0.001],'kernel': ['rbf', 'poly', 'sigmoid']}"
      ],
      "execution_count": 32,
      "outputs": []
    },
    {
      "cell_type": "code",
      "metadata": {
        "id": "i6wU7FuqSFbP",
        "outputId": "329ad416-d8aa-4377-9788-1ab93d6f60fe",
        "colab": {
          "base_uri": "https://localhost:8080/",
          "height": 187
        }
      },
      "source": [
        "start_time = time.time()\n",
        "svm = svm.SVC()\n",
        "grid = GridSearchCV(svm,param_grid,verbose=2, cv = 3)\n",
        "grid.fit(X_train,y_train)\n",
        "print(\"Total time taken--- %s seconds---\" % (time.time() - start_time))"
      ],
      "execution_count": null,
      "outputs": [
        {
          "output_type": "stream",
          "text": [
            "Fitting 3 folds for each of 48 candidates, totalling 144 fits\n",
            "[CV] C=0.1, gamma=1, kernel=rbf ......................................\n",
            "[CV] ....................... C=0.1, gamma=1, kernel=rbf, total=   0.0s\n",
            "[CV] C=0.1, gamma=1, kernel=rbf ......................................\n",
            "[CV] ....................... C=0.1, gamma=1, kernel=rbf, total=   0.0s\n",
            "[CV] C=0.1, gamma=1, kernel=rbf ......................................\n",
            "[CV] ....................... C=0.1, gamma=1, kernel=rbf, total=   0.0s\n",
            "[CV] C=0.1, gamma=1, kernel=poly .....................................\n"
          ],
          "name": "stdout"
        },
        {
          "output_type": "stream",
          "text": [
            "[Parallel(n_jobs=1)]: Using backend SequentialBackend with 1 concurrent workers.\n",
            "[Parallel(n_jobs=1)]: Done   1 out of   1 | elapsed:    0.0s remaining:    0.0s\n"
          ],
          "name": "stderr"
        }
      ]
    },
    {
      "cell_type": "code",
      "metadata": {
        "id": "kaNIW4bUSeJJ"
      },
      "source": [
        "print(grid.best_estimator_)\n",
        "best_svm = grid.best_estimator_"
      ],
      "execution_count": null,
      "outputs": []
    },
    {
      "cell_type": "code",
      "metadata": {
        "id": "5tiDsatBUu-Q"
      },
      "source": [
        "#pickle.dump(clf, open(\"rf_model.sav\", 'wb'))"
      ],
      "execution_count": 68,
      "outputs": []
    },
    {
      "cell_type": "code",
      "metadata": {
        "id": "wkPQNAd3bQ6W"
      },
      "source": [
        "pickle.dump(svc, open(\"BEST_SVM_model.sav\", 'wb'))\n"
      ],
      "execution_count": 99,
      "outputs": []
    },
    {
      "cell_type": "code",
      "metadata": {
        "id": "4WAlmP-hZD_X"
      },
      "source": [
        "feature_list = ['Soil_Moisture', 'Elevation', 'Soil_Temperature', 'Vegetation_Index']"
      ],
      "execution_count": 4,
      "outputs": []
    },
    {
      "cell_type": "markdown",
      "metadata": {
        "id": "tqwoMRYikSBQ"
      },
      "source": [
        "**Python API function to use this model**"
      ]
    },
    {
      "cell_type": "code",
      "metadata": {
        "id": "gIy21kycZHX2"
      },
      "source": [
        "List_URL = [\n",
        "\"https://wvs.earthdata.nasa.gov/api/v1/snapshot?REQUEST=GetSnapshot&TIME={}&BBOX={}&CRS=EPSG:4326&LAYERS=VIIRS_SNPP_CorrectedReflectance_TrueColor,SMAP_L4_Analyzed_Surface_Soil_Moisture&WRAP=day,day&FORMAT=image/tiff&WIDTH=380&HEIGHT=385&ts=1601748025134\",\n",
        "\"https://wvs.earthdata.nasa.gov/api/v1/snapshot?REQUEST=GetSnapshot&TIME={}&BBOX={}&CRS=EPSG:4326&LAYERS=VIIRS_SNPP_CorrectedReflectance_TrueColor,ASTER_GDEM_Color_Index&WRAP=day,day&FORMAT=image/tiff&WIDTH=380&HEIGHT=385&ts=1601748025134\",\n",
        "\"https://wvs.earthdata.nasa.gov/api/v1/snapshot?REQUEST=GetSnapshot&TIME={}&BBOX={}&CRS=EPSG:4326&LAYERS=VIIRS_SNPP_CorrectedReflectance_TrueColor,SMAP_L4_Soil_Temperature_Layer_1&WRAP=day,day&FORMAT=image/tiff&WIDTH=380&HEIGHT=385&ts=1601748025134\",\n",
        "\"https://wvs.earthdata.nasa.gov/api/v1/snapshot?REQUEST=GetSnapshot&TIME={}&BBOX={}&CRS=EPSG:4326&LAYERS=VIIRS_SNPP_CorrectedReflectance_TrueColor,MODIS_Terra_NDVI_8Day&WRAP=day,day&FORMAT=image/tiff&WIDTH=380&HEIGHT=385&ts=1601748025134\",\n",
        "]\n",
        "\n",
        "#1:SMAP_L4_Analyzed_Surface_Soil_Moisture\n",
        "#2:ASTER_GDEM_Color_Index (Elevation)\n",
        "#3:SMAP_L4_Soil_Temperature_Layer_1 (Soil Temp)\n",
        "#4 MODIS_Terra_NDVI_8Day"
      ],
      "execution_count": 5,
      "outputs": []
    },
    {
      "cell_type": "code",
      "metadata": {
        "id": "bDHKPbmIYJ0f"
      },
      "source": [
        "def get_val(lat, longo, time):\n",
        "  unit_length = 0.06\n",
        "  lower_lat = lat - unit_length\n",
        "  left_long = longo - unit_length\n",
        "\n",
        "  upper_lat = lat + unit_length\n",
        "  right_long = longo + unit_length \n",
        "\n",
        "  Bbox = (lower_lat,left_long,upper_lat,right_long)\n",
        "\n",
        "  Bbox = str(Bbox)[1:]\n",
        "\n",
        "  Bbox = Bbox[:-1]\n",
        "\n",
        "  Bbox = Bbox.replace(\" \", \"\")\n",
        "  df = pd.DataFrame(columns = feature_list)\n",
        "  for i in range(len(List_URL)):\n",
        "      \n",
        "      link = List_URL[i]\n",
        "      url = link.format(time, Bbox)\n",
        "      response = requests.get(url)\n",
        "      print(url)\n",
        "      img = BytesIO(response.content)\n",
        "\n",
        "      with open(\"example2.tif\", \"wb\") as  f:\n",
        "        f.write(img.getvalue())\n",
        "\n",
        "      with rasterio.open('example2.tif') as dataset:\n",
        "        mask = dataset.dataset_mask()\n",
        "        \n",
        "        for geom, val in rasterio.features.shapes(\n",
        "                mask, transform=dataset.transform):\n",
        "  \n",
        "            geom = rasterio.warp.transform_geom(\n",
        "              dataset.crs, 'EPSG:4326', geom, precision=6)\n",
        "     \n",
        "            b = dataset.index(longo, lat)\n",
        "            a = dataset.read()\n",
        "            index = a[:,b[0]-1,b[1]]\n",
        "            index = '#%02x%02x%02x' % (index[0], index[1],index[2])\n",
        "            \n",
        "            df.loc[0, feature_list[i]] = index\n",
        "  return df"
      ],
      "execution_count": 30,
      "outputs": []
    },
    {
      "cell_type": "code",
      "metadata": {
        "id": "-LGPhlq_Z0on"
      },
      "source": [
        "new_columns = [\"R_soil\", \"G_soil\", \"B_soil\", \"R_ele\", \"G_ele\", \"B_ele\",\"R_temp\", \"G_temp\", \"B_temp\", \"R_veg\", \"G_veg\", \"B_veg\",]"
      ],
      "execution_count": 3,
      "outputs": []
    },
    {
      "cell_type": "code",
      "metadata": {
        "id": "Gb_K5P3maMJ_"
      },
      "source": [
        "def getRBGValues(df):\n",
        "  count = 0\n",
        "  r,g,b,r1, g1, b1,r2, g2, b2,r3, g3, b3 = [],[],[],[],[],[],[],[],[],[],[],[]\n",
        "  for index, row in df.iterrows():\n",
        "    print(count)\n",
        "    hex = df.iloc[count][0]\n",
        "    print(\"1\",df)\n",
        "    rgb =  ImageColor.getcolor(str(hex), \"RGB\")\n",
        "    r.append(rgb[0])\n",
        "    g.append(rgb[1])\n",
        "    b.append(rgb[2])\n",
        "    print(\"2\",hex)\n",
        "    hex = df.iloc[count][1]\n",
        "    rgb =  ImageColor.getcolor(str(hex), \"RGB\")\n",
        "    r1.append(rgb[0])\n",
        "    g1.append(rgb[1])\n",
        "    b1.append(rgb[2])\n",
        "    hex = df.iloc[count][2]\n",
        "    rgb =  ImageColor.getcolor(str(hex), \"RGB\")\n",
        "    r2.append(rgb[0])\n",
        "    g2.append(rgb[1])\n",
        "    b2.append(rgb[2])\n",
        "    hex = df.iloc[count][3]\n",
        "    rgb =  ImageColor.getcolor(str(hex), \"RGB\")\n",
        "    r3.append(rgb[0])\n",
        "    g3.append(rgb[1])\n",
        "    b3.append(rgb[2])\n",
        "    count += 1\n",
        "    df[new_columns[0]] = r\n",
        "  df[new_columns[1]] = g\n",
        "  df[new_columns[2]] = b\n",
        "  df[new_columns[3]] = r1\n",
        "  df[new_columns[4]] = g1\n",
        "  df[new_columns[5]] = b1\n",
        "  df[new_columns[6]] = r2\n",
        "  df[new_columns[7]] = g2\n",
        "  df[new_columns[8]] = b2\n",
        "  df[new_columns[9]] = r3\n",
        "  df[new_columns[10]] = g3\n",
        "  df[new_columns[11]] = b3\n",
        "  return df"
      ],
      "execution_count": 28,
      "outputs": []
    },
    {
      "cell_type": "code",
      "metadata": {
        "id": "_S8I7PjIeZsp"
      },
      "source": [
        "def load_model():\n",
        "  model = pickle.load(\"model.sav\")\n",
        "  return model"
      ],
      "execution_count": 32,
      "outputs": []
    },
    {
      "cell_type": "markdown",
      "metadata": {
        "id": "P-sLT0rpkb-c"
      },
      "source": [
        "Just call this function with latitude, longitude and date to check for locust invasion"
      ]
    },
    {
      "cell_type": "code",
      "metadata": {
        "id": "SNHVxXPo1YQZ"
      },
      "source": [
        "def get_locust_prob(lat, longo):\n",
        "  df = get_val(lat, longo, \"2019-01-01\")\n",
        "  df = getRBGValues(df)\n",
        "  #model = load_model()  \n",
        "  prediction = model.predict(df)\n",
        "  print(prediction)"
      ],
      "execution_count": 19,
      "outputs": []
    },
    {
      "cell_type": "markdown",
      "metadata": {
        "id": "zD2OqGdFkjL1"
      },
      "source": [
        "API test"
      ]
    },
    {
      "cell_type": "code",
      "metadata": {
        "id": "dpaGu_iBbcyZ",
        "outputId": "698a0078-1c32-4911-af1d-428e13da048a",
        "colab": {
          "base_uri": "https://localhost:8080/",
          "height": 241
        }
      },
      "source": [
        "lat = 9.57\n",
        "longo = 45.46\n",
        "get_locust_prob(lat, longo)"
      ],
      "execution_count": 31,
      "outputs": [
        {
          "output_type": "stream",
          "text": [
            "https://wvs.earthdata.nasa.gov/api/v1/snapshot?REQUEST=GetSnapshot&TIME=2019-01-01&BBOX=9.51,45.4,9.63,45.52&CRS=EPSG:4326&LAYERS=VIIRS_SNPP_CorrectedReflectance_TrueColor,SMAP_L4_Analyzed_Surface_Soil_Moisture&WRAP=day,day&FORMAT=image/tiff&WIDTH=380&HEIGHT=385&ts=1601748025134\n",
            "https://wvs.earthdata.nasa.gov/api/v1/snapshot?REQUEST=GetSnapshot&TIME=2019-01-01&BBOX=9.51,45.4,9.63,45.52&CRS=EPSG:4326&LAYERS=VIIRS_SNPP_CorrectedReflectance_TrueColor,ASTER_GDEM_Color_Index&WRAP=day,day&FORMAT=image/tiff&WIDTH=380&HEIGHT=385&ts=1601748025134\n",
            "https://wvs.earthdata.nasa.gov/api/v1/snapshot?REQUEST=GetSnapshot&TIME=2019-01-01&BBOX=9.51,45.4,9.63,45.52&CRS=EPSG:4326&LAYERS=VIIRS_SNPP_CorrectedReflectance_TrueColor,SMAP_L4_Soil_Temperature_Layer_1&WRAP=day,day&FORMAT=image/tiff&WIDTH=380&HEIGHT=385&ts=1601748025134\n",
            "https://wvs.earthdata.nasa.gov/api/v1/snapshot?REQUEST=GetSnapshot&TIME=2019-01-01&BBOX=9.51,45.4,9.63,45.52&CRS=EPSG:4326&LAYERS=VIIRS_SNPP_CorrectedReflectance_TrueColor,MODIS_Terra_NDVI_8Day&WRAP=day,day&FORMAT=image/tiff&WIDTH=380&HEIGHT=385&ts=1601748025134\n",
            "0\n",
            "1   Soil_Moisture Elevation Soil_Temperature Vegetation_Index\n",
            "0       #ffde00   #c6d20b          #ff6f00          #cdba9e\n",
            "2 #ffde00\n",
            "  Soil_Moisture Elevation Soil_Temperature  ... R_veg  G_veg  B_veg\n",
            "0       #ffde00   #c6d20b          #ff6f00  ...   205    186    158\n",
            "\n",
            "[1 rows x 16 columns]\n"
          ],
          "name": "stdout"
        }
      ]
    },
    {
      "cell_type": "code",
      "metadata": {
        "id": "WozcpGRlbmsP"
      },
      "source": [
        ""
      ],
      "execution_count": null,
      "outputs": []
    }
  ]
}